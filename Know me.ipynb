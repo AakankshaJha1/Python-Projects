{
 "cells": [
  {
   "cell_type": "markdown",
   "id": "binary-seller",
   "metadata": {},
   "source": [
    "# Know me \n"
   ]
  },
  {
   "cell_type": "code",
   "execution_count": 4,
   "id": "recent-portfolio",
   "metadata": {},
   "outputs": [],
   "source": [
    "#It is a game where you can take the inputs from the user by asking questions and print a well structured intro/about-me para.\n",
    "#This program will help you understand the concepts of string concatenation"
   ]
  },
  {
   "cell_type": "code",
   "execution_count": 1,
   "id": "forced-jesus",
   "metadata": {},
   "outputs": [
    {
     "name": "stdout",
     "output_type": "stream",
     "text": [
      "Let's play coding with  Aakanksha Jha\n",
      "Let's play coding with Aakanksha Jha\n",
      "Let's play with Aakanksha Jha\n"
     ]
    }
   ],
   "source": [
    "#different ways to concate name are as follows\n",
    "name=\"Aakanksha Jha\"\n",
    "print(\"Let's play coding with \", name)\n",
    "print(f\"Let's play coding with {name}\")\n",
    "print(\"Let's play with {}\".format(name))\n",
    "#all these will give the same output"
   ]
  },
  {
   "cell_type": "code",
   "execution_count": 3,
   "id": "undefined-prospect",
   "metadata": {},
   "outputs": [
    {
     "name": "stdout",
     "output_type": "stream",
     "text": [
      "What's your name?Aakanksha Jha\n",
      "What's your favourite languageC++\n",
      "What is the best adjective for you?determined\n",
      "Whom you admire the most?my sister\n",
      "Hi all! I am Aakanksha Jha, i love to explore new things and meet new people. I love coding and i have proficiency in C++,so you can reach out to me at anytime, i would be more than happy to help you!.I believe that there is no shortcut to success, only way is to work for our goal, i admire my sister the most!\n"
     ]
    }
   ],
   "source": [
    "#You can create a nice about me para about a person just by knwoing few nice things about them\n",
    "#Take the inputs by asking them questions\n",
    "#See the magic\n",
    "name=input(\"What's your name?\")\n",
    "lang=input(\"What's your favourite language\")\n",
    "adj=input(\"What is the best adjective for you?\")\n",
    "idol=input(\"Whom you admire the most?\")\n",
    "know_me=f\"Hi all! I am {name}, i love to explore new things and meet new people.One word that can describe the best is {adj}.I love coding and i have proficiency in {lang},so you can reach out to me at anytime, i would be more than happy to help you!.I believe that there is no shortcut to success, only way is to work for our goal, i admire {idol} the most!\"\n",
    "print(know_me)"
   ]
  },
  {
   "cell_type": "code",
   "execution_count": null,
   "id": "boxed-madison",
   "metadata": {},
   "outputs": [],
   "source": []
  }
 ],
 "metadata": {
  "kernelspec": {
   "display_name": "Python 3",
   "language": "python",
   "name": "python3"
  },
  "language_info": {
   "codemirror_mode": {
    "name": "ipython",
    "version": 3
   },
   "file_extension": ".py",
   "mimetype": "text/x-python",
   "name": "python",
   "nbconvert_exporter": "python",
   "pygments_lexer": "ipython3",
   "version": "3.8.5"
  }
 },
 "nbformat": 4,
 "nbformat_minor": 5
}
