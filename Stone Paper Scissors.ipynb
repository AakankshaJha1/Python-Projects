{
 "cells": [
  {
   "cell_type": "markdown",
   "id": "external-trout",
   "metadata": {},
   "source": [
    "# Rock Paper Scissors\n",
    "## Its a great project to clear the concepts of random.choice() and if-else statements"
   ]
  },
  {
   "cell_type": "code",
   "execution_count": 1,
   "id": "changing-bible",
   "metadata": {},
   "outputs": [],
   "source": [
    "#import random \n",
    "#it will help to make a random output from given list of required inputs\n",
    "import random"
   ]
  },
  {
   "cell_type": "code",
   "execution_count": 16,
   "id": "breeding-snapshot",
   "metadata": {},
   "outputs": [],
   "source": [
    "#create a function to carry out the flow of game\n",
    "def play():\n",
    "    user=input(\"'r' for rock, 'p' for paper and 's' for scissors : \")\n",
    "    computer= random.choice(['r','p','s'])\n",
    "    \n",
    "    if (isWin(user,computer)):\n",
    "        return \"Congo! You won\"\n",
    "    elif user==computer:\n",
    "        return \"It is a tie\"\n",
    "    else:\n",
    "        return \"Better luck next time!\""
   ]
  },
  {
   "cell_type": "code",
   "execution_count": 17,
   "id": "matched-stylus",
   "metadata": {},
   "outputs": [],
   "source": [
    "#this function will decide whether the user is winner or not\n",
    "#r>s,p>r,s>p\n",
    "#if this function returns True then the user is winner\n",
    "def isWin(user,computer):\n",
    "    print(\"Computer:\",computer)\n",
    "    if(user=='r' and computer=='s')or (user=='p' and computer=='r') or(user=='s' and computer=='p'):\n",
    "        return True"
   ]
  },
  {
   "cell_type": "code",
   "execution_count": 22,
   "id": "sustainable-facial",
   "metadata": {},
   "outputs": [
    {
     "name": "stdout",
     "output_type": "stream",
     "text": [
      "'r' for rock, 'p' for paper and 's' for scissors : p\n",
      "Computer: s\n"
     ]
    },
    {
     "data": {
      "text/plain": [
       "'Better luck next time!'"
      ]
     },
     "execution_count": 22,
     "metadata": {},
     "output_type": "execute_result"
    }
   ],
   "source": [
    "play()"
   ]
  }
 ],
 "metadata": {
  "kernelspec": {
   "display_name": "Python 3",
   "language": "python",
   "name": "python3"
  },
  "language_info": {
   "codemirror_mode": {
    "name": "ipython",
    "version": 3
   },
   "file_extension": ".py",
   "mimetype": "text/x-python",
   "name": "python",
   "nbconvert_exporter": "python",
   "pygments_lexer": "ipython3",
   "version": "3.8.5"
  }
 },
 "nbformat": 4,
 "nbformat_minor": 5
}
